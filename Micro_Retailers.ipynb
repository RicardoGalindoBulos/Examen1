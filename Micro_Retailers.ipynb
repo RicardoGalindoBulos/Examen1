{
  "nbformat": 4,
  "nbformat_minor": 0,
  "metadata": {
    "colab": {
      "provenance": [],
      "authorship_tag": "ABX9TyP25OsBI62G7dKZ2u+wz9+v",
      "include_colab_link": true
    },
    "kernelspec": {
      "name": "python3",
      "display_name": "Python 3"
    },
    "language_info": {
      "name": "python"
    }
  },
  "cells": [
    {
      "cell_type": "markdown",
      "metadata": {
        "id": "view-in-github",
        "colab_type": "text"
      },
      "source": [
        "<a href=\"https://colab.research.google.com/github/RicardoGalindoBulos/Examen1/blob/main/Micro_Retailers.ipynb\" target=\"_parent\"><img src=\"https://colab.research.google.com/assets/colab-badge.svg\" alt=\"Open In Colab\"/></a>"
      ]
    },
    {
      "cell_type": "code",
      "execution_count": 2,
      "metadata": {
        "id": "tOu-rlITjxWu"
      },
      "outputs": [],
      "source": [
        "#Importamos las librerias pandas, numpy y matplotlib respectivamente\n",
        "import pandas as pd\n",
        "import numpy as np\n",
        "import matplotlib.pyplot as plt\n",
        "import seaborn as sns\n",
        "import io"
      ]
    },
    {
      "cell_type": "code",
      "source": [
        "#Cargar archivo\n",
        "from google.colab import files\n",
        "files.upload()"
      ],
      "metadata": {
        "id": "r5En_Boel3pU"
      },
      "execution_count": null,
      "outputs": []
    },
    {
      "cell_type": "code",
      "source": [
        "#Cargarlo como xlsx sin indice\n",
        "Micro_Retailer= pd.read_excel('microretailer_mit_lift_lab.xlsx')"
      ],
      "metadata": {
        "id": "pV9EG144mZ1N"
      },
      "execution_count": 4,
      "outputs": []
    },
    {
      "cell_type": "code",
      "source": [
        "#Separo las columnas por cuantitativas y cualitativas\n",
        "Cualitativa=Micro_Retailer.iloc[:,[7,9,10,11,12,15,23,24,25,26,27,28,30,32,34,35,36,37,38,41,43,44,45,46,47,48,50,53,54,55,61,62,63,65,66,67,68,69,70,71,72,73,74,75,76,77,79,80,81,82,83,84,85,88,89,90,91,92,93,94,95,96,97,98,99,100,102]]\n",
        "Cualitativa"
      ],
      "metadata": {
        "id": "kfBjPWo2-AKA"
      },
      "execution_count": null,
      "outputs": []
    },
    {
      "cell_type": "code",
      "source": [
        "#Limpiamos valores nulos para cada columna cualitativa\n",
        "Cualitativa[\"228_store_name\"] =Cualitativa[\"228_store_name\"].fillna(method=\"ffill\")\n",
        "Cualitativa[\"232_type_of_store\"] =Cualitativa[\"232_type_of_store\"].fillna(method=\"ffill\")\n",
        "Cualitativa[\"108_does_the_micro_retailer_has_a_barred_window_\"] =Cualitativa[\"108_does_the_micro_retailer_has_a_barred_window_\"].fillna(method=\"ffill\")\n",
        "Cualitativa[\"99_does_the_micro_retailer_exhibits_products_outside_\"] =Cualitativa[\"99_does_the_micro_retailer_exhibits_products_outside_\"].fillna(method=\"ffill\")\n",
        "Cualitativa[\"102_does_the_micro_retailer_sells_fresh_products_\"] =Cualitativa[\"102_does_the_micro_retailer_sells_fresh_products_\"].fillna(method=\"ffill\")\n",
        "Cualitativa[\"184_store_devices\"] =Cualitativa[\"184_store_devices\"].fillna(method=\"ffill\")\n",
        "Cualitativa[\"5_change_store_space_last_year\"] =Cualitativa[\"5_change_store_space_last_year\"].fillna(method=\"ffill\")\n",
        "Cualitativa[\"6_change_employees_average_salary_last_year\"] =Cualitativa[\"6_change_employees_average_salary_last_year\"].fillna(method=\"ffill\")\n",
        "Cualitativa[\"20_reviews_finances_monthly\"] =Cualitativa[\"20_reviews_finances_monthly\"].fillna(method=\"ffill\")\n",
        "Cualitativa[\"49_inventory_records\"] =Cualitativa[\"49_inventory_records\"].fillna(method=\"ffill\")\n",
        "Cualitativa[\"18_sales_records\"] =Cualitativa[\"18_sales_records\"].fillna(method=\"ffill\")\n",
        "Cualitativa[\"155_sales_registers_used_for\"] =Cualitativa[\"155_sales_registers_used_for\"].fillna(method=\"ffill\")\n",
        "Cualitativa[\"19_tax_id\"] =Cualitativa[\"19_tax_id\"].fillna(method=\"ffill\")\n",
        "Cualitativa[\"310_burnout\"] =Cualitativa[\"310_burnout\"].fillna(method=\"ffill\")\n",
        "Cualitativa[\"186_internet_connection\"] =Cualitativa[\"186_internet_connection\"].fillna(method=\"ffill\")\n",
        "Cualitativa[\"210_sales_channels\"] =Cualitativa[\"210_sales_channels\"].fillna(method=\"ffill\")\n",
        "Cualitativa[\"189_payment_methods\"] =Cualitativa[\"189_payment_methods\"].fillna(method=\"ffill\")\n",
        "Cualitativa[\"28_prefered_payment_method\"] =Cualitativa[\"28_prefered_payment_method\"].fillna(method=\"ffill\")\n",
        "Cualitativa[\"31_different_prices_payment_method\"] =Cualitativa[\"31_different_prices_payment_method\"].fillna(method=\"ffill\")\n",
        "Cualitativa[\"214_customer_relationship_tools\"] =Cualitativa[\"214_customer_relationship_tools\"].fillna(method=\"ffill\")\n",
        "Cualitativa[\"33_credit_to_customers\"] =Cualitativa[\"33_credit_to_customers\"].fillna(method=\"ffill\")\n",
        "Cualitativa[\"193_sales_planning_tools\"] =Cualitativa[\"193_sales_planning_tools\"].fillna(method=\"ffill\")\n",
        "Cualitativa[\"60_services\"] =Cualitativa[\"60_services\"].fillna(method=\"ffill\")\n",
        "Cualitativa[\"69_why_not_services\"] =Cualitativa[\"69_why_not_services\"].fillna(method=\"ffill\")\n",
        "Cualitativa[\"313_home_deliveries\"] =Cualitativa[\"313_home_deliveries\"].fillna(method=\"ffill\")\n",
        "Cualitativa[\"161_actions_stockouts\"] =Cualitativa[\"161_actions_stockouts\"].fillna(method=\"ffill\")\n",
        "Cualitativa[\"249_technology_training\"] =Cualitativa[\"249_technology_training\"].fillna(method=\"ffill\")\n",
        "Cualitativa[\"250_technology_investment_operations\"] =Cualitativa[\"250_technology_investment_operations\"].fillna(method=\"ffill\")\n",
        "Cualitativa[\"251_technology_investment_customers\"] =Cualitativa[\"251_technology_investment_customers\"].fillna(method=\"ffill\")\n",
        "Cualitativa[\"254_technology_roadmap\"] =Cualitativa[\"254_technology_roadmap\"].fillna(method=\"ffill\")\n",
        "Cualitativa[\"260_technology_scalable\"] =Cualitativa[\"260_technology_scalable\"].fillna(method=\"ffill\")\n",
        "Cualitativa[\"261_technology_organization\"] =Cualitativa[\"261_technology_organization\"].fillna(method=\"ffill\")\n",
        "Cualitativa[\"262_technology_serve_customers\"] =Cualitativa[\"262_technology_serve_customers\"].fillna(method=\"ffill\")\n",
        "Cualitativa[\"263_technology_secure_sales\"] =Cualitativa[\"263_technology_secure_sales\"].fillna(method=\"ffill\")\n",
        "Cualitativa[\"264_technology_budget\"] =Cualitativa[\"264_technology_budget\"].fillna(method=\"ffill\")\n",
        "Cualitativa[\"267_technology_investment_customer_preferences\"] =Cualitativa[\"267_technology_investment_customer_preferences\"].fillna(method=\"ffill\")\n",
        "Cualitativa[\"318_shopkeeper_name\"] =Cualitativa[\"318_shopkeeper_name\"].fillna(method=\"ffill\")\n",
        "valores_nulos=Cualitativa.isnull().sum()\n",
        "valores_nulos"
      ],
      "metadata": {
        "id": "TGVDsGCrG5L5"
      },
      "execution_count": null,
      "outputs": []
    },
    {
      "cell_type": "code",
      "source": [
        "#Separamos las variables cuantitativas\n",
        "Cuantitativa=Micro_Retailer.iloc[:,[5,6,13,14,16,21,22,29,31,33,42,49,51,56,57,58,59,60,78]]\n",
        "Cuantitativa"
      ],
      "metadata": {
        "id": "RtvqfHOI-xb3"
      },
      "execution_count": null,
      "outputs": []
    },
    {
      "cell_type": "code",
      "source": [
        "#Limpiamos valores nulos de las variables cuantitativas\n",
        "Cuantitativa[\"97_number_of_customers_in_store\"]=Cuantitativa[\"97_number_of_customers_in_store\"].fillna(round(Cuantitativa[\"97_number_of_customers_in_store\"].mean(),1))\n",
        "Cuantitativa[\"268_number_fridges\"]=Cuantitativa[\"268_number_fridges\"].fillna(round(Cuantitativa[\"268_number_fridges\"].mean(),1))\n",
        "Cuantitativa[\"104_how_many_shelves_does_the_micro_retailer_have\"]=Cuantitativa[\"104_how_many_shelves_does_the_micro_retailer_have\"].fillna(round(Cuantitativa[\"104_how_many_shelves_does_the_micro_retailer_have\"].mean(),1))\n",
        "Cuantitativa[\"2_current_permanent_employees\"]=Cuantitativa[\"2_current_permanent_employees\"].fillna(round(Cuantitativa[\"2_current_permanent_employees\"].mean(),1))\n",
        "Cuantitativa[\"4_number_permanent_employees_last_year\"]=Cuantitativa[\"4_number_permanent_employees_last_year\"].fillna(round(Cuantitativa[\"4_number_permanent_employees_last_year\"].mean(),1))\n",
        "Cuantitativa[\"103_number_own_fridges\"]=Cuantitativa[\"103_number_own_fridges\"].fillna(round(Cuantitativa[\"103_number_own_fridges\"].mean(),1))\n",
        "Cuantitativa[\"145_number_direct_competitors\"]=Cuantitativa[\"145_number_direct_competitors\"].fillna(round(Cuantitativa[\"145_number_direct_competitors\"].mean(),1))\n",
        "Cuantitativa[\"24_burnout\"]=Cuantitativa[\"24_burnout\"].fillna(round(Cuantitativa[\"24_burnout\"].mean(),1))\n",
        "Cuantitativa[\"272_card_days_receive_money\"]=Cuantitativa[\"272_card_days_receive_money\"].fillna(round(Cuantitativa[\"272_card_days_receive_money\"].mean(),1))\n",
        "Cuantitativa[\"276_expected_days_informal_credit\"]=Cuantitativa[\"276_expected_days_informal_credit\"].fillna(round(Cuantitativa[\"276_expected_days_informal_credit\"].mean(),1))\n",
        "Cuantitativa[\"36_credit_default_rate\"]=Cuantitativa[\"36_credit_default_rate\"].fillna(round(Cuantitativa[\"36_credit_default_rate\"].mean(),1))\n",
        "Cuantitativa[\"315_frequency_topups\"]=Cuantitativa[\"315_frequency_topups\"].fillna(round(Cuantitativa[\"315_frequency_topups\"].mean(),1))\n",
        "Cuantitativa[\"316_frequency_utility_bills\"]=Cuantitativa[\"316_frequency_utility_bills\"].fillna(round(Cuantitativa[\"316_frequency_utility_bills\"].mean(),1))\n",
        "Cuantitativa[\"317_home_deliveries\"]=Cuantitativa[\"317_home_deliveries\"].fillna(round(Cuantitativa[\"317_home_deliveries\"].mean(),1))\n",
        "Cuantitativa[\"62_frequency_only_services\"]=Cuantitativa[\"62_frequency_only_services\"].fillna(round(Cuantitativa[\"62_frequency_only_services\"].mean(),1))\n",
        "Cuantitativa[\"78_number_home_deliveries_week\"]=Cuantitativa[\"78_number_home_deliveries_week\"].fillna(round(Cuantitativa[\"78_number_home_deliveries_week\"].mean(),1))\n",
        "Cuantitativa[\"172_supplier_frequency\"]=Cuantitativa[\"172_supplier_frequency\"].fillna(round(Cuantitativa[\"172_supplier_frequency\"].mean(),1))\n",
        "\n",
        "valores_nulos=Cuantitativa.isnull().sum()\n",
        "valores_nulos"
      ],
      "metadata": {
        "id": "xdV4YhYtARk1"
      },
      "execution_count": null,
      "outputs": []
    },
    {
      "cell_type": "code",
      "source": [
        "#Analizamos, encontramos y limpiamos los datos atípicos\n",
        "y=Cuantitativa[\"97_number_of_customers_in_store\"]\n",
        "Limite_Superior= y.mean() + 3*y.std()\n",
        "Limite_Inferior= y.mean() - 3*y.std()\n",
        "print(\"Limite superior permitido\", Limite_Superior)\n",
        "print(\"Limite inferior permitido\", Limite_Inferior)\n",
        "#Encontramos Ouliers\n",
        "outliers= Cuantitativa[(y>Limite_Superior)|(y<Limite_Inferior)]\n",
        "outliers\n",
        "#Obtenemos datos limpios\n",
        "Cuantitativa= Cuantitativa[(y<=Limite_Superior)&(y>=Limite_Inferior)]\n",
        "Cuantitativa\n",
        "#Obtenemos diagrama de bigote \n",
        "fig = plt.figure(figsize =(5, 3))\n",
        "plt.boxplot(Cuantitativa[\"97_number_of_customers_in_store\"]) \n",
        "plt.title(\"Outliers de Precio Venta\")\n",
        "plt.show() #dibujamos el diagrama\n",
        "\n",
        "#Este procedimiento repetirlo para todas las variables cuantitativas"
      ],
      "metadata": {
        "colab": {
          "base_uri": "https://localhost:8080/",
          "height": 262
        },
        "id": "JxVY9DucFN9s",
        "outputId": "404c5d22-e129-409e-b27a-106c61451c7c"
      },
      "execution_count": 37,
      "outputs": [
        {
          "output_type": "stream",
          "name": "stdout",
          "text": [
            "Limite superior permitido 5.07160402949358\n",
            "Limite inferior permitido -2.6860618608188807\n"
          ]
        },
        {
          "output_type": "display_data",
          "data": {
            "text/plain": [
              "<Figure size 360x216 with 1 Axes>"
            ],
            "image/png": "[encoded data removed]"
          },
          "metadata": {
            "needs_background": "light"
          }
        }
      ]
    },
    {
      "cell_type": "code",
      "source": [
        "#Exportamos las variables cuantitativas\n",
        "Cuantitativa.to_csv('cuantitativa_microretailer_mit_lift_lab.csv')\n",
        "from google.colab import files \n",
        "files.download('cuantitativa_microretailer_mit_lift_lab.csv')"
      ],
      "metadata": {
        "colab": {
          "base_uri": "https://localhost:8080/",
          "height": 17
        },
        "id": "gJExUoL6HHWs",
        "outputId": "aa2fe713-7708-463e-86c1-8af45ce1d56f"
      },
      "execution_count": 46,
      "outputs": [
        {
          "output_type": "display_data",
          "data": {
            "text/plain": [
              "<IPython.core.display.Javascript object>"
            ],
            "application/javascript": [
              "\n",
              "    async function download(id, filename, size) {\n",
              "      if (!google.colab.kernel.accessAllowed) {\n",
              "        return;\n",
              "      }\n",
              "      const div = document.createElement('div');\n",
              "      const label = document.createElement('label');\n",
              "      label.textContent = `Downloading \"${filename}\": `;\n",
              "      div.appendChild(label);\n",
              "      const progress = document.createElement('progress');\n",
              "      progress.max = size;\n",
              "      div.appendChild(progress);\n",
              "      document.body.appendChild(div);\n",
              "\n",
              "      const buffers = [];\n",
              "      let downloaded = 0;\n",
              "\n",
              "      const channel = await google.colab.kernel.comms.open(id);\n",
              "      // Send a message to notify the kernel that we're ready.\n",
              "      channel.send({})\n",
              "\n",
              "      for await (const message of channel.messages) {\n",
              "        // Send a message to notify the kernel that we're ready.\n",
              "        channel.send({})\n",
              "        if (message.buffers) {\n",
              "          for (const buffer of message.buffers) {\n",
              "            buffers.push(buffer);\n",
              "            downloaded += buffer.byteLength;\n",
              "            progress.value = downloaded;\n",
              "          }\n",
              "        }\n",
              "      }\n",
              "      const blob = new Blob(buffers, {type: 'application/binary'});\n",
              "      const a = document.createElement('a');\n",
              "      a.href = window.URL.createObjectURL(blob);\n",
              "      a.download = filename;\n",
              "      div.appendChild(a);\n",
              "      a.click();\n",
              "      div.remove();\n",
              "    }\n",
              "  "
            ]
          },
          "metadata": {}
        },
        {
          "output_type": "display_data",
          "data": {
            "text/plain": [
              "<IPython.core.display.Javascript object>"
            ],
            "application/javascript": [
              "download(\"download_282f3e5a-fa28-41c1-aa82-ea75a64c8461\", \"cuantitativa_microretailer_mit_lift_lab.csv\", 16617)"
            ]
          },
          "metadata": {}
        }
      ]
    },
    {
      "cell_type": "code",
      "source": [
        "#Exportamos las variables cualitativas\n",
        "Cualitativa.to_csv('cualitativa_microretailer_mit_lift_lab.csv')\n",
        "from google.colab import files \n",
        "files.download('cualitativa_microretailer_mit_lift_lab.csv')"
      ],
      "metadata": {
        "colab": {
          "base_uri": "https://localhost:8080/",
          "height": 17
        },
        "id": "uEEj_WAXJNb_",
        "outputId": "41abf524-bbc6-4f77-8a51-fa30bbf1fafc"
      },
      "execution_count": 47,
      "outputs": [
        {
          "output_type": "display_data",
          "data": {
            "text/plain": [
              "<IPython.core.display.Javascript object>"
            ],
            "application/javascript": [
              "\n",
              "    async function download(id, filename, size) {\n",
              "      if (!google.colab.kernel.accessAllowed) {\n",
              "        return;\n",
              "      }\n",
              "      const div = document.createElement('div');\n",
              "      const label = document.createElement('label');\n",
              "      label.textContent = `Downloading \"${filename}\": `;\n",
              "      div.appendChild(label);\n",
              "      const progress = document.createElement('progress');\n",
              "      progress.max = size;\n",
              "      div.appendChild(progress);\n",
              "      document.body.appendChild(div);\n",
              "\n",
              "      const buffers = [];\n",
              "      let downloaded = 0;\n",
              "\n",
              "      const channel = await google.colab.kernel.comms.open(id);\n",
              "      // Send a message to notify the kernel that we're ready.\n",
              "      channel.send({})\n",
              "\n",
              "      for await (const message of channel.messages) {\n",
              "        // Send a message to notify the kernel that we're ready.\n",
              "        channel.send({})\n",
              "        if (message.buffers) {\n",
              "          for (const buffer of message.buffers) {\n",
              "            buffers.push(buffer);\n",
              "            downloaded += buffer.byteLength;\n",
              "            progress.value = downloaded;\n",
              "          }\n",
              "        }\n",
              "      }\n",
              "      const blob = new Blob(buffers, {type: 'application/binary'});\n",
              "      const a = document.createElement('a');\n",
              "      a.href = window.URL.createObjectURL(blob);\n",
              "      a.download = filename;\n",
              "      div.appendChild(a);\n",
              "      a.click();\n",
              "      div.remove();\n",
              "    }\n",
              "  "
            ]
          },
          "metadata": {}
        },
        {
          "output_type": "display_data",
          "data": {
            "text/plain": [
              "<IPython.core.display.Javascript object>"
            ],
            "application/javascript": [
              "download(\"download_7fea5492-a903-44c0-8782-532071788922\", \"cualitativa_microretailer_mit_lift_lab.csv\", 138132)"
            ]
          },
          "metadata": {}
        }
      ]
    }
  ]
}