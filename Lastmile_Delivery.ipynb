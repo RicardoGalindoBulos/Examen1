{
  "nbformat": 4,
  "nbformat_minor": 0,
  "metadata": {
    "colab": {
      "provenance": [],
      "include_colab_link": true
    },
    "kernelspec": {
      "name": "python3",
      "display_name": "Python 3"
    },
    "language_info": {
      "name": "python"
    }
  },
  "cells": [
    {
      "cell_type": "markdown",
      "metadata": {
        "id": "view-in-github",
        "colab_type": "text"
      },
      "source": [
        "<a href=\"https://colab.research.google.com/github/RicardoGalindoBulos/Examen1/blob/main/Lastmile_Delivery.ipynb\" target=\"_parent\"><img src=\"https://colab.research.google.com/assets/colab-badge.svg\" alt=\"Open In Colab\"/></a>"
      ]
    },
    {
      "cell_type": "code",
      "execution_count": 1,
      "metadata": {
        "id": "vD-D7mvHKiT9"
      },
      "outputs": [],
      "source": [
        "#Importamos las librerías pandas numpy y matplotlib respectivamente\n",
        "import pandas as pd\n",
        "import numpy as np\n",
        "import matplotlib.pyplot as plt"
      ]
    },
    {
      "cell_type": "code",
      "source": [
        "#Cargar archivo csv desde equipo\n",
        "from google.colab import files\n",
        "files.upload()"
      ],
      "metadata": {
        "id": "wEdVv2thK7Tq"
      },
      "execution_count": null,
      "outputs": []
    },
    {
      "cell_type": "code",
      "source": [
        "#Lectura de archivo tipo csv\n",
        "lastmile = pd.read_csv('lastmile_delivery_operations_mit_lift_lab.csv')\n",
        "lastmile"
      ],
      "metadata": {
        "id": "D1HxpkOOMF_o"
      },
      "execution_count": null,
      "outputs": []
    },
    {
      "cell_type": "code",
      "source": [
        "#Filtro de columnas para cualitativas\n",
        "Cualitativa = lastmile.iloc[:,[0,1,2,3,4,8,9,10,11,13,14,15,17,18,19,20,23,24,26,27]]"
      ],
      "metadata": {
        "id": "4Vu2AFhNOC2S"
      },
      "execution_count": 4,
      "outputs": []
    },
    {
      "cell_type": "code",
      "source": [
        "#Filtro de columnas para cualitativas\n",
        "Cuantitativa = lastmile.iloc[:,[5,6,7,12,16,21,28]]"
      ],
      "metadata": {
        "id": "wlU4VAwZOQQZ"
      },
      "execution_count": 5,
      "outputs": []
    },
    {
      "cell_type": "code",
      "source": [
        "#Corroboramos valores nulos\n",
        "valores_nulos = Cualitativa.isnull().sum()\n",
        "valores_nulos "
      ],
      "metadata": {
        "id": "wuBbcJV-ObJI"
      },
      "execution_count": null,
      "outputs": []
    },
    {
      "cell_type": "code",
      "source": [
        "#Limpiamos Valores nulos de cualitativos\n",
        "Cualitativa = Cualitativa.fillna(method='ffill')"
      ],
      "metadata": {
        "id": "ot8XvwHAOegQ"
      },
      "execution_count": 7,
      "outputs": []
    },
    {
      "cell_type": "code",
      "source": [
        "#Corroboramos valores nulos de Cualitativos para limpiarlos\n",
        "valores_nulos = Cualitativa.isnull().sum()\n",
        "valores_nulos"
      ],
      "metadata": {
        "id": "oc9VVi5_OlRE"
      },
      "execution_count": null,
      "outputs": []
    },
    {
      "cell_type": "code",
      "source": [
        "#Corroboramos valores nulos MAL!!\n",
        "valores_nulos = Cualitativa.isnull().sum()\n",
        "valores_nulos"
      ],
      "metadata": {
        "id": "T1Ctb-qlOrkM"
      },
      "execution_count": null,
      "outputs": []
    },
    {
      "cell_type": "code",
      "source": [
        "#Limpiamos los valores nulos de Cuantitativas\n",
        "Cuantitativa = Cuantitativa.fillna(round(Cuantitativa.mean(),1))"
      ],
      "metadata": {
        "colab": {
          "base_uri": "https://localhost:8080/"
        },
        "id": "6WhWN8gJQLsW",
        "outputId": "1c9d69a7-73bb-4dc8-defa-4b3214e2e84a"
      },
      "execution_count": 10,
      "outputs": [
        {
          "output_type": "stream",
          "name": "stderr",
          "text": [
            "/usr/local/lib/python3.7/dist-packages/ipykernel_launcher.py:2: FutureWarning: Dropping of nuisance columns in DataFrame reductions (with 'numeric_only=None') is deprecated; in a future version this will raise TypeError.  Select only valid columns before calling the reduction.\n",
            "  \n"
          ]
        }
      ]
    },
    {
      "cell_type": "code",
      "source": [
        "#Corroboramos valores nulos de Cualitativos para limpiarlos\n",
        "valores_nulos_Cuantitativa = Cuantitativa.isnull().sum()\n",
        "valores_nulos"
      ],
      "metadata": {
        "colab": {
          "base_uri": "https://localhost:8080/"
        },
        "id": "AV5vNUOrQR-S",
        "outputId": "7fb214b9-397e-4a2c-a745-ee4d447f5bac"
      },
      "execution_count": 11,
      "outputs": [
        {
          "output_type": "execute_result",
          "data": {
            "text/plain": [
              "_record_id                               0\n",
              "_title                                   0\n",
              "_server_updated_at                       0\n",
              "_updated_by                              0\n",
              "_geometry                                0\n",
              "plates                                   0\n",
              "company_if_visible                       0\n",
              "visit_purpose                            0\n",
              "type_of_vehicle                          0\n",
              "refrigerated_truck                       0\n",
              "type_of_cargo                            0\n",
              "picture_of_the_parked_freight_vehicle    0\n",
              "where_was_the_vehicle_parked             0\n",
              "while_parked_was_the_engine_running      0\n",
              "used_traffic_cone                        0\n",
              "vehicles_unloading_door                  0\n",
              "garage_blocking                          0\n",
              "accident                                 0\n",
              "noise                                    0\n",
              "traffic_congestion                       0\n",
              "dtype: int64"
            ]
          },
          "metadata": {},
          "execution_count": 11
        }
      ]
    },
    {
      "cell_type": "code",
      "source": [
        "#Metodo de IQR\n",
        "y = Cuantitativa\n",
        "percentile25 = y.quantile(0.25) #Q1\n",
        "percentile75 = y.quantile(0.75) #Q3\n",
        "iqr = percentile75 - percentile25\n",
        "\n",
        "Limite_Superior_iqr = percentile75 + 1.5*iqr\n",
        "Limite_Inferior_iqr = percentile25 - 1.5*iqr\n",
        "print(\"Limite superior permitido\", Limite_Superior_iqr)\n",
        "print(\"Limite inferior permitido\", Limite_Inferior_iqr)"
      ],
      "metadata": {
        "id": "aEuWHQBNQTqZ"
      },
      "execution_count": null,
      "outputs": []
    },
    {
      "cell_type": "code",
      "source": [
        "#Obtenemos datos limpios\n",
        "data_clean_iqr = Cuantitativa[(y <= Limite_Superior_iqr)&(y >= Limite_Inferior_iqr)]\n",
        "data_clean_iqr"
      ],
      "metadata": {
        "id": "2ekE4USTRlnJ"
      },
      "execution_count": null,
      "outputs": []
    },
    {
      "cell_type": "code",
      "source": [
        "#Unimos ambos dataframes ya que estan limpios\n",
        "datos_limpios_Lastmile_Delivery= pd.concat([Cuantitativa,Cualitativa],axis=1)\n",
        "datos_limpios_Lastmile_Delivery"
      ],
      "metadata": {
        "id": "ohCsY7BSdbl2"
      },
      "execution_count": null,
      "outputs": []
    },
    {
      "cell_type": "code",
      "source": [
        "#Convertir dataframe a CSV\n",
        "datos_limpios_Lastmile_Delivery.to_csv(\"datos_limpios_Lastmile_Delivery.csv\")\n",
        "#Descargar archivo filtrado en csv\n",
        "from google.colab import files\n",
        "\n",
        "\n",
        "files.download(\"datos_limpios_Lastmile_Delivery.csv\")"
      ],
      "metadata": {
        "colab": {
          "base_uri": "https://localhost:8080/",
          "height": 17
        },
        "id": "ZlpgeYqPh2iC",
        "outputId": "fc032d8a-0374-40cf-aba8-cf029738f54b"
      },
      "execution_count": 15,
      "outputs": [
        {
          "output_type": "display_data",
          "data": {
            "text/plain": [
              "<IPython.core.display.Javascript object>"
            ],
            "application/javascript": [
              "\n",
              "    async function download(id, filename, size) {\n",
              "      if (!google.colab.kernel.accessAllowed) {\n",
              "        return;\n",
              "      }\n",
              "      const div = document.createElement('div');\n",
              "      const label = document.createElement('label');\n",
              "      label.textContent = `Downloading \"${filename}\": `;\n",
              "      div.appendChild(label);\n",
              "      const progress = document.createElement('progress');\n",
              "      progress.max = size;\n",
              "      div.appendChild(progress);\n",
              "      document.body.appendChild(div);\n",
              "\n",
              "      const buffers = [];\n",
              "      let downloaded = 0;\n",
              "\n",
              "      const channel = await google.colab.kernel.comms.open(id);\n",
              "      // Send a message to notify the kernel that we're ready.\n",
              "      channel.send({})\n",
              "\n",
              "      for await (const message of channel.messages) {\n",
              "        // Send a message to notify the kernel that we're ready.\n",
              "        channel.send({})\n",
              "        if (message.buffers) {\n",
              "          for (const buffer of message.buffers) {\n",
              "            buffers.push(buffer);\n",
              "            downloaded += buffer.byteLength;\n",
              "            progress.value = downloaded;\n",
              "          }\n",
              "        }\n",
              "      }\n",
              "      const blob = new Blob(buffers, {type: 'application/binary'});\n",
              "      const a = document.createElement('a');\n",
              "      a.href = window.URL.createObjectURL(blob);\n",
              "      a.download = filename;\n",
              "      div.appendChild(a);\n",
              "      a.click();\n",
              "      div.remove();\n",
              "    }\n",
              "  "
            ]
          },
          "metadata": {}
        },
        {
          "output_type": "display_data",
          "data": {
            "text/plain": [
              "<IPython.core.display.Javascript object>"
            ],
            "application/javascript": [
              "download(\"download_adbedbcf-5743-42dd-8de2-bb9787c6e989\", \"datos_limpios_Lastmile_Delivery.csv\", 85717)"
            ]
          },
          "metadata": {}
        }
      ]
    }
  ]
}